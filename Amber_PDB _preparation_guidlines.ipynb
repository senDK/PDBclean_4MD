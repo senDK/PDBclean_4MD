{
 "cells": [
  {
   "cell_type": "markdown",
   "metadata": {},
   "source": [
    "### Amber PDB preparation script\n"
   ]
  },
  {
   "cell_type": "markdown",
   "metadata": {},
   "source": [
    "The follwing steps help patch PDB coordinates from individual PDBs. Following *pymol* view and using \"drag coordinates\" option to obtain the desired. The composite PDB file has fragments with different Chain ID, residue number and atom number. The following steps will help to correct these discrepancies and prepare a AMBER ready PDB file."
   ]
  },
  {
   "cell_type": "markdown",
   "metadata": {},
   "source": [
    "#### Additional Package Requirements"
   ]
  },
  {
   "cell_type": "markdown",
   "metadata": {},
   "source": [
    "    * csplit \n",
    "    * MayachemTools\n",
    "    * pdb4amber (AmberTools17)\n",
    "    "
   ]
  },
  {
   "cell_type": "markdown",
   "metadata": {},
   "source": [
    "The steps vary based on the starting structure or structures and the extend of the patch needed. \n",
    "\n",
    "* ** 01_split_the_combined_pdb.sh **\n",
    "    * The  scripts helps in splitting PDB files  based on TER card\n",
    "* ** 02_run_PDB_resID_chainID_edit.sh **    \n",
    "    * This script helps in renumbering the PDb coordinates."
   ]
  }
 ],
 "metadata": {
  "kernelspec": {
   "display_name": "R",
   "language": "R",
   "name": "ir"
  },
  "language_info": {
   "codemirror_mode": "r",
   "file_extension": ".r",
   "mimetype": "text/x-r-source",
   "name": "R",
   "pygments_lexer": "r",
   "version": "3.4.4"
  }
 },
 "nbformat": 4,
 "nbformat_minor": 2
}
